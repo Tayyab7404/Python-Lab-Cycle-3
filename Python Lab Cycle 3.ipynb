{
 "cells": [
  {
   "cell_type": "code",
   "execution_count": null,
   "id": "453f5446",
   "metadata": {},
   "outputs": [],
   "source": [
    "# Program 1:\n",
    "\n",
    "a = int(input(\"Enter a: \"))\n",
    "b = int(input(\"Enter b: \"))\n",
    "\n",
    "try:\n",
    "    c = a/b\n",
    "    print(d)\n",
    "    \n",
    "except ZeroDivisionError:\n",
    "    print(\"Division by '0' is not possible!\\nPlease enter a valid number\")\n",
    "\n",
    "except ValueError:\n",
    "    print(\"Only integers are allowed!\\nPlease enter a valid number\")\n",
    "\n",
    "except NameError:\n",
    "    print(\"d is not defined\")\n",
    "    print(\"c = \",c)\n",
    "\n",
    "finally:\n",
    "    print(\"Exit\")"
   ]
  }
 ],
 "metadata": {
  "kernelspec": {
   "display_name": "Python 3 (ipykernel)",
   "language": "python",
   "name": "python3"
  },
  "language_info": {
   "codemirror_mode": {
    "name": "ipython",
    "version": 3
   },
   "file_extension": ".py",
   "mimetype": "text/x-python",
   "name": "python",
   "nbconvert_exporter": "python",
   "pygments_lexer": "ipython3",
   "version": "3.9.7"
  }
 },
 "nbformat": 4,
 "nbformat_minor": 5
}
