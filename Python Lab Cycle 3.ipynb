{
 "cells": [
  {
   "cell_type": "markdown",
   "id": "eda30924",
   "metadata": {},
   "source": [
    "# Question 1\n",
    "Write a python program to handle the following errors using try, except and finally.\n",
    "- A. ZeroDivisionError\n",
    "- B. NameError.\n",
    "- C. ValueError."
   ]
  },
  {
   "cell_type": "code",
   "execution_count": 3,
   "id": "1fafb15b",
   "metadata": {},
   "outputs": [
    {
     "name": "stdout",
     "output_type": "stream",
     "text": [
      "Enter a: 69\n",
      "Enter b: 0\n",
      "Division by '0' is not possible!\n",
      "Please enter a valid number\n",
      "Exit\n"
     ]
    }
   ],
   "source": [
    "# Program 1:\n",
    "\n",
    "a = int(input(\"Enter a: \"))\n",
    "b = int(input(\"Enter b: \"))\n",
    "\n",
    "try:\n",
    "    c = a/b\n",
    "    print(d)\n",
    "    \n",
    "except ZeroDivisionError:\n",
    "    print(\"Division by '0' is not possible!\\nPlease enter a valid number\")\n",
    "\n",
    "except ValueError:\n",
    "    print(\"Only integers are allowed!\\nPlease enter a valid number\")\n",
    "\n",
    "except NameError:\n",
    "    print(\"d is not defined\")\n",
    "    print(\"c = \",c)\n",
    "\n",
    "finally:\n",
    "    print(\"Exit\")"
   ]
  },
  {
   "cell_type": "markdown",
   "id": "657183ee",
   "metadata": {},
   "source": [
    "# Question 2\n",
    "Write a python program to create a module that has prime, even, odd methods. Use that module to check the type of a given number."
   ]
  },
  {
   "cell_type": "code",
   "execution_count": 5,
   "id": "cb412d5c",
   "metadata": {},
   "outputs": [
    {
     "name": "stdout",
     "output_type": "stream",
     "text": [
      "Enter a number: 69\n",
      "69 is not a Prime number\n",
      "69 is an Odd number\n"
     ]
    }
   ],
   "source": [
    "# Program 2:\n",
    "\n",
    "class Number:\n",
    "    def __init__(self, num=0):\n",
    "        self.num = num\n",
    "\n",
    "    def __str__(self):\n",
    "        return str(self.num)\n",
    "\n",
    "    def isPrime(self):\n",
    "        for i in range(2,self.num//2 + 1):\n",
    "            if i%2 == 0:\n",
    "                return False\n",
    "        return True\n",
    "\n",
    "    def isEven(self):\n",
    "        return self.num % 2 == 0\n",
    "\n",
    "    def isOdd(self):\n",
    "        return self.num % 2 == 1\n",
    "\n",
    "if __name__ == \"__main__\":\n",
    "    n = Number(int(input(\"Enter a number: \")))\n",
    "\n",
    "    if n.isPrime():\n",
    "        print(f\"{n} is a Prime number\")\n",
    "    else:\n",
    "        print(f\"{n} is not a Prime number\")\n",
    "\n",
    "    if n.isEven():\n",
    "        print(f\"{n} is an Even number\")\n",
    "    elif n.isOdd():\n",
    "        print(f\"{n} is an Odd number\")"
   ]
  },
  {
   "cell_type": "markdown",
   "id": "b541823a",
   "metadata": {},
   "source": [
    "# Question 3\n",
    "Write a python program to create user defined exceptions."
   ]
  },
  {
   "cell_type": "code",
   "execution_count": 7,
   "id": "ea2dd38d",
   "metadata": {},
   "outputs": [
    {
     "name": "stdout",
     "output_type": "stream",
     "text": [
      "Enter age of the canditate: 18\n",
      "The canditate is eligible\n",
      "Exit\n"
     ]
    }
   ],
   "source": [
    "# Program 3:\n",
    "\n",
    "class MoreAgeError(Exception):\n",
    "    def __init__(self, m):\n",
    "        self.msg = m\n",
    "    \n",
    "def check(age):\n",
    "    try:\n",
    "        if age>30:\n",
    "            raise MoreAgeError(\"Ineligible due to more age!\")\n",
    "        else:\n",
    "            print(\"The canditate is eligible\")\n",
    "        \n",
    "    except MoreAgeError as e:\n",
    "        print(e)\n",
    "    \n",
    "    finally:\n",
    "        print(\"Exit\")\n",
    "\n",
    "if __name__ == \"__main__\":\n",
    "    age = int(input(\"Enter age of the canditate: \"))\n",
    "    check(age)"
   ]
  },
  {
   "cell_type": "markdown",
   "id": "232b9bef",
   "metadata": {},
   "source": [
    "# Question 4\n",
    "Write a program to define a method add and return sum of numbers (if integer arguments are given), concatenation of arguments (if string) by using method overloading."
   ]
  },
  {
   "cell_type": "code",
   "execution_count": 8,
   "id": "8d66431d",
   "metadata": {},
   "outputs": [
    {
     "name": "stdout",
     "output_type": "stream",
     "text": [
      "Enter 1st value: Hello\n",
      "Enter 2nd value: World\n",
      "HelloWorld\n"
     ]
    }
   ],
   "source": [
    "# Program 4:\n",
    "\n",
    "def add(p, q):\n",
    "    return p+q\n",
    "\n",
    "p = input(\"Enter 1st value: \")\n",
    "q = input(\"Enter 2nd value: \")\n",
    "\n",
    "if p.isdigit():\n",
    "    p = int(p)\n",
    "\n",
    "if q.isdigit():\n",
    "    q = int(q)\n",
    "\n",
    "if type(p) == type(q):\n",
    "    print(add(p,q))\n",
    "\n",
    "else:\n",
    "    print(\"Invalid Operation!\")"
   ]
  },
  {
   "cell_type": "markdown",
   "id": "ad76b279",
   "metadata": {},
   "source": [
    "# Question 5\n",
    "Write a program to overload the ‘+’ Operator and perform the addition of two objects."
   ]
  },
  {
   "cell_type": "code",
   "execution_count": 9,
   "id": "908c1f0f",
   "metadata": {},
   "outputs": [
    {
     "name": "stdout",
     "output_type": "stream",
     "text": [
      "Enter first complex number: \n",
      "\tReal part:2\n",
      "\tImaginary part: 3\n",
      "Enter second complex number: \n",
      "\tReal part: 4\n",
      "\tImaginary part: 5\n",
      "2+3j + 4+5j = 6+8j\n"
     ]
    }
   ],
   "source": [
    "# Program 5:\n",
    "\n",
    "class Mycomplex:\n",
    "    \n",
    "    def __init__(self, r, i):\n",
    "        self.real = r\n",
    "        self.img = i\n",
    "        \n",
    "    def __str__(self):\n",
    "        if self.img < 0:\n",
    "            out = ''\n",
    "        else:\n",
    "            out = '+'\n",
    "        return str(self.real) + out + str(self.img) + 'j'\n",
    "    \n",
    "    def __add__(self, c):\n",
    "        r = self.real + c.real\n",
    "        i = self.img + c.img\n",
    "        return Mycomplex(r, i)\n",
    "        \n",
    "if __name__ == \"__main__\":\n",
    "    print(\"Enter first complex number: \")\n",
    "    r = int(input(\"\\tReal part:\"))\n",
    "    i = int(input(\"\\tImaginary part: \"))\n",
    "    c1 = Mycomplex(r, i)\n",
    "\n",
    "    print(\"Enter second complex number: \")\n",
    "    r = int(input(\"\\tReal part: \"))\n",
    "    i = int(input(\"\\tImaginary part: \"))\n",
    "    c2 = Mycomplex(r, i)\n",
    "\n",
    "    print(f\"{c1} + {c2} =\", c1+c2)"
   ]
  },
  {
   "cell_type": "markdown",
   "id": "5005f39f",
   "metadata": {},
   "source": [
    "# Question 6\n",
    "Write a program to create a fraction class with following methods:\n",
    "- str: returns the string representation of an object\n",
    "- add: add two fractional numbers.\n",
    "- sub: subtract two fractional numbers.\n",
    "- float: floating point representation of object."
   ]
  },
  {
   "cell_type": "code",
   "execution_count": 10,
   "id": "b5f6b291",
   "metadata": {},
   "outputs": [
    {
     "name": "stdout",
     "output_type": "stream",
     "text": [
      "Enter the 1st Fractional number: 5/2\n",
      "Enter the 2nd Fractional number: 3/2\n",
      "5/2 + 3/2 = 4/1 = 4.0\n",
      "5/2 - 3/2 = 1/1 = 1.0\n"
     ]
    }
   ],
   "source": [
    "# Program 6:\n",
    "\n",
    "class Fraction:\n",
    "    def hcf(self,n1,n2):\n",
    "        x = min(n1,n2)\n",
    "        y = max(n1,n2)\n",
    "\n",
    "        if x == 0:\n",
    "            return y\n",
    "        \n",
    "        return self.hcf(y%x,x)\n",
    "\n",
    "    def __init__(self,numer,denom):\n",
    "        h = self.hcf(abs(numer),abs(denom))\n",
    "\n",
    "        self.numer = numer // h\n",
    "        self.denom = denom // h\n",
    "\n",
    "    def __str__(self):\n",
    "        return f\"{self.numer}/{self.denom}\"\n",
    "\n",
    "    def __add__(self,f2):\n",
    "        n = self.numer*f2.denom + f2.numer*self.denom\n",
    "        d = self.denom*f2.denom\n",
    "        return Fraction(n,d)\n",
    "\n",
    "    def __sub__(self,f2):\n",
    "        n = self.numer*f2.denom - f2.numer*self.denom\n",
    "        d = self.denom*f2.denom\n",
    "        return Fraction(n,d)\n",
    "\n",
    "    def float(self):\n",
    "        return self.numer/self.denom\n",
    "\n",
    "if __name__ == \"__main__\":\n",
    "    n1, d1 = [int(x) for x in input(\"Enter the 1st Fractional number: \").split(\"/\")]\n",
    "    n2, d2 = [int(x) for x in input(\"Enter the 2nd Fractional number: \").split(\"/\")]\n",
    "\n",
    "    num1 = Fraction(n1, d1)\n",
    "    num2 = Fraction(n2, d2)\n",
    "\n",
    "    num3 = num1 + num2\n",
    "    num4 = num1 - num2\n",
    "\n",
    "    print(f\"{num1} + {num2} = {num3} = {num3.float()}\")\n",
    "\n",
    "    print(f\"{num1} - {num2} = {num4} = {num4.float()}\")"
   ]
  },
  {
   "cell_type": "markdown",
   "id": "5274291c",
   "metadata": {},
   "source": [
    "# Question 7\n",
    "Create a class vehicle and it subclasses car and truck. Each class has the following methods:\n",
    "- show() in vehicle class displays vehicle type, colour, price.\n",
    "- speed() displays the max speed of the vehicle.\n",
    "- Change_gear() displays the number of gears of the vehicle."
   ]
  },
  {
   "cell_type": "code",
   "execution_count": 11,
   "id": "b5f93794",
   "metadata": {},
   "outputs": [
    {
     "name": "stdout",
     "output_type": "stream",
     "text": [
      "Type of vehicle: car\n",
      "Color of car: silver\n",
      "Price of car: 400000\n",
      "Maximum speed of car: 140\n",
      "Number of gears of car: 5\n",
      "\n",
      "Type of vehicle: truck\n",
      "Color of truck: red\n",
      "Price of truck: 800000\n",
      "Maximum speed of truck: 110\n",
      "Number of gears of truck: 5\n"
     ]
    }
   ],
   "source": [
    "# Program 7:\n",
    "\n",
    "class Vehicle:\n",
    "    def __init__(self, Type=None, Colour=None, Speed=0, Price=0, Gears=0):\n",
    "        self.Type = Type\n",
    "        self.Colour = Colour\n",
    "        self.Speed = Speed\n",
    "        self.Price = Price\n",
    "        self.Gears = Gears\n",
    "    \n",
    "    def show(self):\n",
    "        print(f\"Type of vehicle: {self.Type}\")\n",
    "        print(f\"Color of {self.Type}: {self.Colour}\")\n",
    "        print(f\"Price of {self.Type}: {self.Price}\")\n",
    "        \n",
    "    def speed(self):\n",
    "        print(f\"Maximum speed of {self.Type}: {self.Speed}\")\n",
    "        \n",
    "    def change_gear(self):\n",
    "        print(f\"Number of gears of {self.Type}: {self.Gears}\")\n",
    "        \n",
    "class Car(Vehicle):\n",
    "    pass\n",
    "\n",
    "class Truck(Vehicle):\n",
    "    pass\n",
    "\n",
    "if __name__ == \"__main__\":\n",
    "    c = Car(\"car\", \"silver\", 140, 400000, 5)\n",
    "    t = Truck(\"truck\", \"red\", 110, 800000, 5)\n",
    "    \n",
    "    c.show()\n",
    "    c.speed()\n",
    "    c.change_gear()\n",
    "    \n",
    "    print()\n",
    "    \n",
    "    t.show()\n",
    "    t.speed()\n",
    "    t.change_gear()"
   ]
  },
  {
   "cell_type": "markdown",
   "id": "41c34c95",
   "metadata": {},
   "source": [
    "# Question 8\n",
    "Create an abstract class shape and abstract methods area and perimeter. Use the abstract class to create two sub classes square and rectangle which displays the area and perimeter of respective shapes."
   ]
  },
  {
   "cell_type": "code",
   "execution_count": 12,
   "id": "b87fd397",
   "metadata": {},
   "outputs": [
    {
     "name": "stdout",
     "output_type": "stream",
     "text": [
      "Enter side of the Square: 5\n",
      "Square:\n",
      "Area = 25\n",
      "Perimeter = 20\n",
      "Enter Length and Breadth of the Rectangle: 10 6\n",
      "Rectangle:\n",
      "Area = 60\n",
      "Perimeter = 32\n"
     ]
    }
   ],
   "source": [
    "# Program 8:\n",
    "\n",
    "from abc import *\n",
    "\n",
    "class Shape(ABC):\n",
    "    @abstractmethod\n",
    "    def area(self):\n",
    "        pass\n",
    "\n",
    "    @abstractmethod\n",
    "    def perimeter(self):\n",
    "        pass\n",
    "\n",
    "class Square(Shape):\n",
    "    def __init__(self, side=0):\n",
    "        self.side = side\n",
    "    \n",
    "    def area(self):\n",
    "        return self.side**2\n",
    "\n",
    "    def perimeter(self):\n",
    "        return 4*self.side\n",
    "\n",
    "class Rectangle(Shape):\n",
    "    def __init__(self, length=0, breadth=0):\n",
    "        self.length = length\n",
    "        self.breadth = breadth\n",
    "\n",
    "    def area(self):\n",
    "        return self.length * self.breadth\n",
    "\n",
    "    def perimeter(self):\n",
    "        return 2 * (self.length + self.breadth)\n",
    "\n",
    "if __name__ == \"__main__\":\n",
    "    side = int(input(\"Enter side of the Square: \"))\n",
    "    S = Square(side)\n",
    "    print(f\"Square:\\nArea = {S.area()}\\nPerimeter = {S.perimeter()}\")\n",
    "\n",
    "    length, breadth = [int(x) for x in input(\"Enter Length and Breadth of the Rectangle: \").split()]\n",
    "    R = Rectangle(length, breadth)\n",
    "    print(f\"Rectangle:\\nArea = {R.area()}\\nPerimeter = {R.perimeter()}\")"
   ]
  },
  {
   "cell_type": "markdown",
   "id": "e37e248c",
   "metadata": {},
   "source": [
    "# Question 9\n",
    "Write a python program to implement multiple inheritances. "
   ]
  },
  {
   "cell_type": "code",
   "execution_count": 13,
   "id": "beee39d2",
   "metadata": {},
   "outputs": [
    {
     "name": "stdout",
     "output_type": "stream",
     "text": [
      "Height = 6 feet\n",
      "Colour = White\n"
     ]
    }
   ],
   "source": [
    "# Program 9:\n",
    "\n",
    "class Father:\n",
    "    \n",
    "    def height(self):\n",
    "        print(\"Height = 6 feet\")\n",
    "    \n",
    "class Mother:\n",
    "        \n",
    "    def colour(self):\n",
    "        print(\"Colour = White\")\n",
    "\n",
    "class Son(Father, Mother):\n",
    "    def __init__(self):\n",
    "        pass\n",
    "\n",
    "if __name__ == \"__main__\":\n",
    "    S = Son()\n",
    "    S.height()\n",
    "    S.colour()"
   ]
  },
  {
   "cell_type": "markdown",
   "id": "23d280da",
   "metadata": {},
   "source": [
    "# Question 10\n",
    "Write a python program to implement multi level inheritance."
   ]
  },
  {
   "cell_type": "code",
   "execution_count": 14,
   "id": "e99856b8",
   "metadata": {},
   "outputs": [
    {
     "name": "stdout",
     "output_type": "stream",
     "text": [
      "GrandFather's Property = 10000000\n",
      "Father's Property = 1000000\n",
      "Son's Property = 100000\n"
     ]
    }
   ],
   "source": [
    "# Program 10:\n",
    "\n",
    "class GrandFather:\n",
    "    def __init__(self, Property1=0):\n",
    "        self.Property1 = Property1\n",
    "\n",
    "class Father(GrandFather):\n",
    "    def __init__(self, Property1=0, Property2=0):\n",
    "        self.Property2 = Property2\n",
    "        super().__init__(Property1)\n",
    "\n",
    "class Son(Father):\n",
    "    def __init__(self, Property1=0, Property2=0, Property3=0):\n",
    "        self.Property3 = Property3\n",
    "        super().__init__(Property1, Property2)\n",
    "    \n",
    "    def display(self):\n",
    "        print(f\"GrandFather's Property = {self.Property1}\")\n",
    "        print(f\"Father's Property = {self.Property2}\")\n",
    "        print(f\"Son's Property = {self.Property3}\")\n",
    "    \n",
    "if __name__ == \"__main__\":\n",
    "    S = Son(10000000, 1000000, 100000)\n",
    "    S.display()"
   ]
  }
 ],
 "metadata": {
  "kernelspec": {
   "display_name": "Python 3 (ipykernel)",
   "language": "python",
   "name": "python3"
  },
  "language_info": {
   "codemirror_mode": {
    "name": "ipython",
    "version": 3
   },
   "file_extension": ".py",
   "mimetype": "text/x-python",
   "name": "python",
   "nbconvert_exporter": "python",
   "pygments_lexer": "ipython3",
   "version": "3.9.7"
  }
 },
 "nbformat": 4,
 "nbformat_minor": 5
}
